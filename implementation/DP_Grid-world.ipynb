{
 "cells": [
  {
   "cell_type": "markdown",
   "metadata": {},
   "source": [
    "# DP_Grid-world\n",
    "\n",
    "David Silver의 3강 Dynamic Programming에 등장하는 Small Grid-world 예제를 구현한 코드입니다.\n",
    "\n",
    "<img src=\"imgs/grid-world.jpg\">"
   ]
  },
  {
   "cell_type": "code",
   "execution_count": 1,
   "metadata": {},
   "outputs": [],
   "source": [
    "class Action:\n",
    "    def __init__(self, policy):\n",
    "        self.actions = [(-1,0),(1,0),(0,-1),(0,1)]\n",
    "        self.actions_str = [\"up\",\"down\",\"left\",\"right\"]\n",
    "    \n",
    "    def get_actions(self):\n",
    "        return self.actions\n",
    "    \n",
    "    def get_actions_str(self):\n",
    "        return self.actions_str"
   ]
  },
  {
   "cell_type": "markdown",
   "metadata": {},
   "source": [
    "1. Policy를 Env에서 제외하는 방향으로 수정\n",
    "2. Action 또한 Env에서 제외하는 방향을 수정\n",
    "3. State를 분리하는 방향으로 Coding"
   ]
  },
  {
   "cell_type": "code",
   "execution_count": 2,
   "metadata": {},
   "outputs": [],
   "source": [
    "class Env:\n",
    "    def __init__(self, grid_size=4):\n",
    "        self.grid_size = grid_size\n",
    "        self.grid = np.ones([grid_size,grid_size])\n",
    "        self.terminal_state = [(0,0),(grid_size-1, grid_size-1)]\n",
    "        self.grid = np.array([0 if (idx_r,idx_c) in self.terminal_state else 1 for idx_r, r in enumerate(self.grid) for idx_c, element in enumerate(r)]).reshape(grid_size,-1)\n",
    "        self.policy = self.init_policy(self.terminal_state)\n",
    "        self.action = Action(self.policy)\n",
    "        \n",
    "    def init_policy(self,terminal_state):\n",
    "        policy = np.zeros([self.grid_size,self.grid_size,self.grid_size])\n",
    "        for idx_r, row in enumerate(policy):\n",
    "            for idx_c, col in enumerate(row):\n",
    "                if (idx_r, idx_c) in terminal_state:\n",
    "                    continue\n",
    "                else:\n",
    "                    policy[idx_r,idx_c] = np.array([0.25] * 4)\n",
    "        return policy\n",
    "    \n",
    "    def set_policy(self, policy):\n",
    "        self.policy = policy\n",
    "        \n",
    "    def get_policy(self):\n",
    "        return self.policy\n",
    "    \n",
    "    def get_actions(self):\n",
    "        return self.action.get_actions()\n",
    "    \n",
    "    def step(self, state, action):\n",
    "        \n",
    "        if state in self.terminal_state:\n",
    "            return state, None, 0, True\n",
    "        \n",
    "        else:\n",
    "            row, col = state\n",
    "\n",
    "            actions = self.action.get_actions()\n",
    "            actions_str = self.action.get_actions_str()\n",
    "            idx_action = [idx for idx, act in enumerate(actions) if act == action ][0]\n",
    "            action_str = actions_str[idx_action]\n",
    "\n",
    "            act_row, act_col = action\n",
    "            next_row = row + act_row\n",
    "            next_col = col + act_col\n",
    "\n",
    "            if next_row < 0:\n",
    "                next_row = 0\n",
    "            elif next_row > self.grid_size-1:\n",
    "                next_row = self.grid_size-1\n",
    "\n",
    "            if next_col < 0:\n",
    "                next_col = 0\n",
    "            elif next_col > self.grid_size-1:\n",
    "                next_col = self.grid_size-1\n",
    "\n",
    "            next_state = (next_row, next_col)\n",
    "\n",
    "            if next_state in self.terminal_state:\n",
    "                done = True\n",
    "            else:\n",
    "                done = False\n",
    "\n",
    "            return next_state, action_str, -1, done"
   ]
  },
  {
   "cell_type": "code",
   "execution_count": 53,
   "metadata": {},
   "outputs": [],
   "source": [
    "import numpy as np\n",
    "\n",
    "grid_size = 4\n",
    "episodes = 2\n",
    "gamma = 1\n",
    "env = Env(grid_size)\n",
    "actions = env.get_actions()\n",
    "policy = env.get_policy()"
   ]
  },
  {
   "cell_type": "markdown",
   "metadata": {},
   "source": [
    "## Policy Iteration"
   ]
  },
  {
   "cell_type": "code",
   "execution_count": 54,
   "metadata": {},
   "outputs": [
    {
     "name": "stdout",
     "output_type": "stream",
     "text": [
      "[[ 0. -1. -1. -1.]\n",
      " [-1. -1. -1. -1.]\n",
      " [-1. -1. -1. -1.]\n",
      " [-1. -1. -1.  0.]]\n",
      "[[ 0.   -1.75 -2.   -2.  ]\n",
      " [-1.75 -2.   -2.   -2.  ]\n",
      " [-2.   -2.   -2.   -1.75]\n",
      " [-2.   -2.   -1.75  0.  ]]\n"
     ]
    }
   ],
   "source": [
    "## Policy Evaluation\n",
    "\n",
    "post_value_table = np.zeros((grid_size,grid_size))\n",
    "\n",
    "for episode in range(episodes):\n",
    "    next_value_table = np.zeros((grid_size,grid_size))\n",
    "    for row in range(grid_size):\n",
    "        for col in range(grid_size):\n",
    "            dummy = 0\n",
    "            for idx_action, action in enumerate(actions):\n",
    "                state = (row,col)\n",
    "                next_state, action_str, reward, done = env.step(state, action)\n",
    "                dummy += policy[row,col,idx_action] * (reward + gamma * post_value_table[next_state])\n",
    "            next_value_table[state] = dummy\n",
    "    post_value_table = next_value_table\n",
    "    print(post_value_table)"
   ]
  },
  {
   "cell_type": "code",
   "execution_count": 55,
   "metadata": {},
   "outputs": [],
   "source": [
    "## Policy Improvement\n",
    "\n",
    "for row in range(grid_size):\n",
    "    for col in range(grid_size):\n",
    "        action_list = list()\n",
    "        for idx_action, action in enumerate(actions):\n",
    "            state = (row,col)\n",
    "            next_state, action_str, reward, done = env.step(state, action)\n",
    "            action_list.append(post_value_table[next_state])\n",
    "        \n",
    "        action_list = np.array(action_list)\n",
    "        if (action_list == 0).sum() == 4:\n",
    "            continue\n",
    "        else:\n",
    "            greedy_idx = np.argwhere(action_list == action_list.max()).flatten()\n",
    "            greedy_policy_value = 1.0 / len(greedy_idx)\n",
    "            updated_policy = np.zeros(len(actions))\n",
    "            updated_policy[greedy_idx] = greedy_policy_value\n",
    "            policy[state] = updated_policy"
   ]
  },
  {
   "cell_type": "markdown",
   "metadata": {},
   "source": [
    "## Value Iteration"
   ]
  },
  {
   "cell_type": "code",
   "execution_count": 60,
   "metadata": {},
   "outputs": [],
   "source": [
    "import numpy as np\n",
    "\n",
    "grid_size = 4\n",
    "episodes = 5\n",
    "gamma = 1\n",
    "env = Env(grid_size)\n",
    "actions = env.get_actions()\n",
    "policy = env.get_policy()"
   ]
  },
  {
   "cell_type": "code",
   "execution_count": 61,
   "metadata": {},
   "outputs": [
    {
     "name": "stdout",
     "output_type": "stream",
     "text": [
      "[[ 0. -1. -1. -1.]\n",
      " [-1. -1. -1. -1.]\n",
      " [-1. -1. -1. -1.]\n",
      " [-1. -1. -1.  0.]]\n",
      "[[ 0. -1. -2. -2.]\n",
      " [-1. -2. -2. -2.]\n",
      " [-2. -2. -2. -1.]\n",
      " [-2. -2. -1.  0.]]\n",
      "[[ 0. -1. -2. -3.]\n",
      " [-1. -2. -3. -2.]\n",
      " [-2. -3. -2. -1.]\n",
      " [-3. -2. -1.  0.]]\n",
      "[[ 0. -1. -2. -3.]\n",
      " [-1. -2. -3. -2.]\n",
      " [-2. -3. -2. -1.]\n",
      " [-3. -2. -1.  0.]]\n",
      "[[ 0. -1. -2. -3.]\n",
      " [-1. -2. -3. -2.]\n",
      " [-2. -3. -2. -1.]\n",
      " [-3. -2. -1.  0.]]\n"
     ]
    }
   ],
   "source": [
    "## Value Iteration\n",
    "\n",
    "post_value_table = np.zeros((grid_size,grid_size))\n",
    "\n",
    "for episode in range(episodes):\n",
    "    next_value_table = np.zeros((grid_size,grid_size))\n",
    "    for row in range(grid_size):\n",
    "        for col in range(grid_size):\n",
    "            action_list = list()\n",
    "            for idx_action, action in enumerate(actions):\n",
    "                state = (row,col)\n",
    "                next_state, action_str, reward, done = env.step(state, action)\n",
    "                value = reward + gamma * post_value_table[next_state]\n",
    "                action_list.append(value)\n",
    "            next_value_table[state] = max(action_list)\n",
    "    post_value_table = next_value_table\n",
    "    print(post_value_table)"
   ]
  }
 ],
 "metadata": {
  "kernelspec": {
   "display_name": "Python 3",
   "language": "python",
   "name": "python3"
  },
  "language_info": {
   "codemirror_mode": {
    "name": "ipython",
    "version": 3
   },
   "file_extension": ".py",
   "mimetype": "text/x-python",
   "name": "python",
   "nbconvert_exporter": "python",
   "pygments_lexer": "ipython3",
   "version": "3.8.5"
  }
 },
 "nbformat": 4,
 "nbformat_minor": 4
}
